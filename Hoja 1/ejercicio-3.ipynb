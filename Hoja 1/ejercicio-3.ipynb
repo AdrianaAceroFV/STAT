{
 "cells": [
  {
   "attachments": {},
   "cell_type": "markdown",
   "metadata": {},
   "source": [
    "#### EJERCICIO 3"
   ]
  },
  {
   "attachments": {},
   "cell_type": "markdown",
   "metadata": {},
   "source": [
    "##### Representar en el mismo gráfico los diagramas de cajas correspondientes a la variable Largo del fichero tortugas.txt para los ejemplares hembra y para los ejemplares macho. Emplear colores distintos para los dos diagramas."
   ]
  },
  {
   "attachments": {},
   "cell_type": "markdown",
   "metadata": {},
   "source": [
    "Descripción de los datos del fichero tortugas.txt:"
   ]
  },
  {
   "attachments": {},
   "cell_type": "markdown",
   "metadata": {},
   "source": [
    "Son medidas del caparazón de tortugas pintadas (Chrysemys picta marginata), \n",
    "24 hembras y 24 machos. El formato de los datos es un fichero de texto\n",
    "(tortugas.txt) con 48 observaciones de las siguientes variables:\n",
    "\n",
    "Longitud (en mm.) del caparazón\n",
    "Anchura (en mm.) del caparazón\n",
    "Altura (en mm.) del caparazón\n",
    "Género (hembra = 0, macho = 1)\n",
    "\n",
    "Fuente de los datos: Jolicoeur, P. y Mosimann, J. E. (1960). \n",
    "Size and shape variation in the painted turtle. A principal component analysis. \n",
    "Growth, 24, 339--354."
   ]
  },
  {
   "attachments": {},
   "cell_type": "markdown",
   "metadata": {},
   "source": [
    "Se importan las librerías necesarias: "
   ]
  },
  {
   "cell_type": "code",
   "execution_count": 2,
   "metadata": {},
   "outputs": [],
   "source": [
    "import csv\n",
    "import numpy as np\n",
    "import pandas as pd\n",
    "import matplotlib.pyplot as plt"
   ]
  },
  {
   "attachments": {},
   "cell_type": "markdown",
   "metadata": {},
   "source": [
    "Se convierte el fichero txt en csv:"
   ]
  },
  {
   "cell_type": "code",
   "execution_count": 3,
   "metadata": {},
   "outputs": [],
   "source": [
    "# Abrir el archivo de texto y crear el archivo CSV\n",
    "with open('C:\\\\Users\\\\Usuario\\\\Desktop\\\\STAT\\\\Hoja 1\\\\Data\\\\tortugas.txt', 'r') as txtfile, open('C:\\\\Users\\\\Usuario\\\\Desktop\\\\STAT\\\\Hoja 1\\\\Data\\\\tortugas.csv', 'w', newline='') as csvfile:\n",
    "\n",
    "    # Crear un objeto csv writer\n",
    "    writer = csv.writer(csvfile)\n",
    "\n",
    "    # Leer el archivo de texto línea por línea y escribir en el archivo CSV\n",
    "    for line in txtfile:\n",
    "        # Dividir los valores en cada línea en una lista\n",
    "        row = line.strip().split()\n",
    "        # Escribir la lista en el archivo CSV\n",
    "        writer.writerow(row)"
   ]
  },
  {
   "cell_type": "code",
   "execution_count": 4,
   "metadata": {},
   "outputs": [],
   "source": [
    "datos = pd.read_csv('C:\\\\Users\\\\Usuario\\\\Desktop\\\\STAT\\\\Hoja 1\\\\Data\\\\tortugas.csv')\n",
    "datos_por_grupo = datos.groupby('Sexo')['Largo'].apply(list).values.tolist()"
   ]
  },
  {
   "cell_type": "code",
   "execution_count": 5,
   "metadata": {},
   "outputs": [
    {
     "data": {
      "image/png": "[encoded data removed]",
      "text/plain": [
       "<Figure size 640x480 with 1 Axes>"
      ]
     },
     "metadata": {},
     "output_type": "display_data"
    }
   ],
   "source": [
    "boxes = plt.boxplot(datos_por_grupo, patch_artist= True)\n",
    "colores = [\"lightgreen\",\"lightblue\"]\n",
    "for i, box in enumerate(boxes[\"boxes\"]):\n",
    "    box.set(facecolor=colores[i])\n",
    "plt.xticks([1, 2], ['Hembra', 'Macho'])\n",
    "plt.ylabel('Longitud (en mm) del caparazón')\n",
    "plt.show()"
   ]
  }
 ],
 "metadata": {
  "kernelspec": {
   "display_name": "Python 3",
   "language": "python",
   "name": "python3"
  },
  "language_info": {
   "codemirror_mode": {
    "name": "ipython",
    "version": 3
   },
   "file_extension": ".py",
   "mimetype": "text/x-python",
   "name": "python",
   "nbconvert_exporter": "python",
   "pygments_lexer": "ipython3",
   "version": "3.11.1"
  },
  "orig_nbformat": 4,
  "vscode": {
   "interpreter": {
    "hash": "5238573367df39f7286bb46f9ff5f08f63a01a80960060ce41e3c79b190280fa"
   }
  }
 },
 "nbformat": 4,
 "nbformat_minor": 2
}
