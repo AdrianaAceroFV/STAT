{
 "cells": [
  {
   "attachments": {},
   "cell_type": "markdown",
   "metadata": {},
   "source": [
    "#### EJERCICIO 15"
   ]
  },
  {
   "attachments": {},
   "cell_type": "markdown",
   "metadata": {},
   "source": [
    "El fichero star.txt contiene la temperatura y la intensidad de la luz en un conjunto de estrellas. \n",
    "Calcula y representa la recta de mínimos cuadrados para explicar la temperatura en función de la \n",
    "intensidad de la luz."
   ]
  },
  {
   "attachments": {},
   "cell_type": "markdown",
   "metadata": {},
   "source": [
    "Se importan las librerías necesarias:"
   ]
  },
  {
   "cell_type": "code",
   "execution_count": 10,
   "metadata": {},
   "outputs": [],
   "source": [
    "import numpy as np\n",
    "import pandas as pd\n",
    "import csv\n",
    "import os\n",
    "import matplotlib.pyplot as plt\n"
   ]
  },
  {
   "attachments": {},
   "cell_type": "markdown",
   "metadata": {},
   "source": [
    "Se convierte el txt en csv:"
   ]
  },
  {
   "cell_type": "code",
   "execution_count": 2,
   "metadata": {},
   "outputs": [],
   "source": [
    "# Definir la ruta de los archivos\n",
    "ruta_txt = 'C:\\\\Users\\\\Usuario\\\\Desktop\\\\STAT\\\\Hoja 1\\\\Data\\\\star.txt'\n",
    "ruta_csv = 'C:\\\\Users\\\\Usuario\\\\Desktop\\\\STAT\\\\Hoja 1\\\\Data\\\\star.csv'\n",
    "\n",
    "\n",
    "# Abrir el archivo de texto y crear el archivo CSV \n",
    "with open(ruta_txt, 'r+') as txtfile1, \\\n",
    "     open(ruta_csv, 'w', newline='') as csvfile1, \\\n",
    "     open('temp.txt', 'w') as temp_file:\n",
    "    # Leer el archivo de texto línea por línea y escribir en el archivo CSV\n",
    "    for line in txtfile1:\n",
    "        # Reemplazar \",\" con \".\"\n",
    "        contenido_actualizado1 = line.replace(\",\", \".\")\n",
    "        # Dividir los valores en cada línea en una lista\n",
    "        row1 = contenido_actualizado1.strip().split()\n",
    "        # Crear un objeto csv writer y escribir la lista en el archivo CSV\n",
    "        writer = csv.writer(csvfile1)\n",
    "        writer.writerow(row1)\n",
    "        # Escribir la línea actualizada en el archivo temporal\n",
    "        temp_file.write(contenido_actualizado1)\n",
    "\n",
    "# Reemplazar el contenido del archivo de texto original con el del archivo temporal\n",
    "os.replace('temp.txt', ruta_txt)"
   ]
  },
  {
   "attachments": {},
   "cell_type": "markdown",
   "metadata": {},
   "source": [
    "Se calcula la media de la temperatura y la intensidad de la luz:"
   ]
  },
  {
   "cell_type": "code",
   "execution_count": 4,
   "metadata": {},
   "outputs": [],
   "source": [
    "df = pd.read_csv(ruta_csv)\n",
    "x_mean = df['Intens'].mean()\n",
    "y_mean = df['Temp'].mean()"
   ]
  },
  {
   "attachments": {},
   "cell_type": "markdown",
   "metadata": {},
   "source": [
    "Se calcula la covarianza y la varianza de la intensidad de la luz y la temperatura:"
   ]
  },
  {
   "cell_type": "code",
   "execution_count": 5,
   "metadata": {},
   "outputs": [],
   "source": [
    "cov_xy = ((df['Intens'] - x_mean) * (df['Temp'] - y_mean)).sum()\n",
    "var_x = ((df['Intens'] - x_mean) ** 2).sum()"
   ]
  },
  {
   "attachments": {},
   "cell_type": "markdown",
   "metadata": {},
   "source": [
    "Se calcula el coeficiente de regresión y la ordenada al origen:"
   ]
  },
  {
   "cell_type": "code",
   "execution_count": 9,
   "metadata": {},
   "outputs": [],
   "source": [
    "beta = cov_xy / var_x\n",
    "alpha = y_mean - beta * x_mean"
   ]
  },
  {
   "attachments": {},
   "cell_type": "markdown",
   "metadata": {},
   "source": [
    "Se representa la recta de regresión en un gráfico de dispersión:"
   ]
  },
  {
   "cell_type": "code",
   "execution_count": 8,
   "metadata": {},
   "outputs": [
    {
     "data": {
      "image/png": "[encoded data removed]",
      "text/plain": [
       "<Figure size 640x480 with 1 Axes>"
      ]
     },
     "metadata": {},
     "output_type": "display_data"
    }
   ],
   "source": [
    "plt.scatter(df['Intens'], df['Temp'])\n",
    "plt.plot(df['Intens'], alpha + beta * df['Intens'], color='red')\n",
    "plt.xlabel('Intensidad de la luz')\n",
    "plt.ylabel('Temperatura')\n",
    "plt.show()"
   ]
  }
 ],
 "metadata": {
  "kernelspec": {
   "display_name": "Python 3",
   "language": "python",
   "name": "python3"
  },
  "language_info": {
   "codemirror_mode": {
    "name": "ipython",
    "version": 3
   },
   "file_extension": ".py",
   "mimetype": "text/x-python",
   "name": "python",
   "nbconvert_exporter": "python",
   "pygments_lexer": "ipython3",
   "version": "3.11.1"
  },
  "orig_nbformat": 4
 },
 "nbformat": 4,
 "nbformat_minor": 2
}
